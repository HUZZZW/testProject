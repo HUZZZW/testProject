{
 "cells": [
  {
   "cell_type": "code",
   "execution_count": 28,
   "metadata": {},
   "outputs": [
    {
     "name": "stdout",
     "output_type": "stream",
     "text": [
      "990872.0199999999 1417157.2200000002\n"
     ]
    },
    {
     "data": {
      "text/plain": [
       "<function matplotlib.pyplot.show(close=None, block=None)>"
      ]
     },
     "execution_count": 28,
     "metadata": {},
     "output_type": "execute_result"
    },
    {
     "data": {
      "image/png": "[encoded data removed]",
      "text/plain": [
       "<Figure size 432x288 with 1 Axes>"
      ]
     },
     "metadata": {
      "needs_background": "light"
     },
     "output_type": "display_data"
    }
   ],
   "source": [
    "\n",
    "from this import d\n",
    "import pandas as pd\n",
    "import numpy as np\n",
    "import matplotlib.pyplot as plt\n",
    "\n",
    "df=pd.read_csv('lobster22.csv')\n",
    "df=df.replace(\"T\",0.00000000001)\n",
    "\n",
    "df['Precip']=df['Precip'].astype(float) \n",
    "\n",
    "#print (type(df['Precip'][0]))\n",
    "\n",
    "rain_rev=df.loc[(df[\"Precip\"]>0.0),:][\"GoldZoneRev\"].sum()\n",
    "non_rain_rev=df.loc[(df[\"Precip\"]==0.0),:][\"GoldZoneRev\"].sum()\n",
    "\n",
    "print (rain_rev,non_rain_rev)\n",
    "x=[rain_rev,non_rain_rev]\n",
    "\n",
    "y=[\"rain rev\",\"non rain rev\"]\n",
    "plt.title(\"Rain and no rain Gold Zone revenue\")\n",
    "plt.bar(range(len(x)),x,tick_label=y)\n",
    "plt.show"
   ]
  }
 ],
 "metadata": {
  "kernelspec": {
   "display_name": "Python 3.10.0 64-bit",
   "language": "python",
   "name": "python3"
  },
  "language_info": {
   "codemirror_mode": {
    "name": "ipython",
    "version": 3
   },
   "file_extension": ".py",
   "mimetype": "text/x-python",
   "name": "python",
   "nbconvert_exporter": "python",
   "pygments_lexer": "ipython3",
   "version": "3.10.0"
  },
  "orig_nbformat": 4,
  "vscode": {
   "interpreter": {
    "hash": "aee8b7b246df8f9039afb4144a1f6fd8d2ca17a180786b69acc140d282b71a49"
   }
  }
 },
 "nbformat": 4,
 "nbformat_minor": 2
}
